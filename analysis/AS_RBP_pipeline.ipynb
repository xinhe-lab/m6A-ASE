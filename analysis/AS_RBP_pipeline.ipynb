{
 "cells": [
  {
   "cell_type": "markdown",
   "metadata": {},
   "source": [
    "### Prepare reference databases\n",
    "\n",
    "#### hg19 human reference genome\n",
    "1. Download `hg19.2bit` and `twoBitToFa` on [assembly of the human genome](http://hgdownload.cse.ucsc.edu/goldenPath/hg19/bigZips/).\n",
    "\n",
    "2. Use `twoBitToFa` to extract `hg19.fa` from `hg19.2bit`. Remember to run twoBitToFa specifying the full qualified path (i.e. /directory/where/you/have/twoBitToFa).\n",
    "\n",
    "    eg: `~/Downloads/twoBitToFa ~/Downloads/hg19.2bit ~/Downloads/hg19.fa`\n",
    "\n",
    "#### Ensembl reference transcriptome\n",
    "1. Download `Homo_sapiens.GRCh38.91.gtf.gz` from [Ensembl](https://useast.ensembl.org/info/data/ftp/index.html).\n",
    "\n",
    "2. unzip it using `gzip -cd Homo_sapiens.GRCh38.91.gtf.gz > ensembl.gtf`"
   ]
  },
  {
   "cell_type": "code",
   "execution_count": null,
   "metadata": {},
   "outputs": [],
   "source": []
  }
 ],
 "metadata": {
  "kernelspec": {
   "display_name": "SoS",
   "language": "sos",
   "name": "sos"
  },
  "language_info": {
   "codemirror_mode": "sos",
   "file_extension": ".sos",
   "mimetype": "text/x-sos",
   "name": "sos",
   "nbconvert_exporter": "sos_notebook.converter.SoS_Exporter",
   "pygments_lexer": "sos"
  },
  "sos": {
   "default_kernel": "SoS",
   "kernels": [
    [
     "Python3",
     "python3",
     "Python3",
     "#FFE771"
    ],
    [
     "R",
     "ir",
     "R",
     "#DCDCDA"
    ],
    [
     "SoS",
     "sos",
     "",
     ""
    ]
   ],
   "panel": {
    "displayed": true,
    "height": 0,
    "style": "side"
   }
  }
 },
 "nbformat": 4,
 "nbformat_minor": 2
}
