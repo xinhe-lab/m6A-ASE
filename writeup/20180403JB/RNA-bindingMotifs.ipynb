{
 "cells": [
  {
   "cell_type": "markdown",
   "metadata": {},
   "source": [
    "% A compendium of RNA-binding motifs for decoding gene regulation\n",
    "% Ray D., et al. Nature, 2013, vol. 499, pp. 172-177\n",
    "% \\today"
   ]
  },
  {
   "cell_type": "markdown",
   "metadata": {},
   "source": [
    "# Introduction\n",
    "## RNA-binding proteins (RBPs)\n",
    "- Are proteins binding to double or single stranded RNA in cells.\n",
    "- Regulate numerous aspect of co- and post-transcriptional gene expression\n",
    "    - RNA splicing, capping, polyadenylation, mRNA export, etc."
   ]
  },
  {
   "cell_type": "markdown",
   "metadata": {},
   "source": [
    "## RNA-binding proteins (RBPs)\n",
    "![Sutherland JM., et al. Asian J Androl 2015](img/RBPs1.jpg){ width=80% }"
   ]
  },
  {
   "cell_type": "markdown",
   "metadata": {},
   "source": [
    "## RNA-binding domains (RBDs)\n",
    "### Functions\n",
    "- Recognize RNA: bind short, single-stranded RNA sequences, or structured RNAs.\n",
    "\n",
    "### Types\n",
    "- RNA recognition motif, hnRNP K-homology (KH), zinc finger domains, etc."
   ]
  },
  {
   "cell_type": "markdown",
   "metadata": {},
   "source": [
    "## Motivation: study of post-transcriptional regulation\n",
    "Post-transcriptional regulation Contributes substantially to gene expression across human tissues.\n",
    "However,\n",
    "\n",
    "- Lack of motifs for the vast majority of RBPs across all branches of eukaryotes.\n",
    "    - Due to higher flexibility of the RNA-protein interface for major types of RBPs;\n",
    "    - Example: only 15% of human RBD-containing proteins have known RNA-binding motifs.\n",
    "    \n",
    "**This paper: identifies binding motifs for a broad range of RBPs**"
   ]
  },
  {
   "cell_type": "markdown",
   "metadata": {},
   "source": [
    "# Methods\n",
    "## `RNAcompete` experiments\n",
    "- An _in vitro_, high-throughput method for the analysis of RNA binding preferences of hundreds of RBD-containing RBPs, from diverse eukaryotes.\n",
    "- Rely on binding reaction between RBD and RNA-binding motifs.\n",
    "    - An RBP is incubated in a complex pool of RNAs by affinity selection.\n",
    "    - The pool contains ~240,000 short RNAs, divided into two halves for internal cross-validation purpose.\n",
    "- The associated RNAs are interrogated by microarray and computational analyses."
   ]
  },
  {
   "cell_type": "markdown",
   "metadata": {},
   "source": [
    "## `RNAcompete` experiments\n",
    "![Ray D., et al. Nature Biotechnol. 2009, Fig 1](img/RNAcompete.png){ width=80% }"
   ]
  },
  {
   "cell_type": "markdown",
   "metadata": {},
   "source": [
    "# Results\n",
    "## Large-scale analysis of RBPs\n",
    "\n",
    "Determined sequence preferences for 207 RBPs (from 193 unique RBP-encoding genes), 85 from human.\n",
    "\n",
    "- Most RBDs fundamentally recognize and bind ssRNA, requires rarely on RNA second structure.\n",
    "    - Fig. 1a: Z score and motifs for ZC3H10 (no previously known motif)\n",
    "- Highlight specificity and diversity of RBP sequence preferences.\n",
    "    - Fig. 1b: E score (enrichment score, Berger MF, et al., Nature Biotech 2006)\n",
    "- The RNAcompete motif substantially outperforms the literature motif by AUROC analysis.\n",
    "    - Fig. 1c: AUROC"
   ]
  },
  {
   "cell_type": "markdown",
   "metadata": {},
   "source": [
    "## Figure 1\n",
    "![Ray D., et al. Nature 2013, Fig 1](img/f1.jpg){ width=60% }"
   ]
  },
  {
   "cell_type": "markdown",
   "metadata": {},
   "source": [
    "## Conservation of ancient motifs\n",
    "- Groups of ancient RBP families retain closely related sequence preferences.\n",
    "    - A2BP1/RBFOX1, BRUNO/ARET\n",
    "    - all RBPs in the SUP12–RBM24–RBM38 cluster prefer similar (G+U)-rich sequences.\n",
    "- Subtle differences between more distantly related proteins are found.\n",
    "    -  family members from fungi, protists and algae maintained the presumed ancestral CAC core-recognition specificity, but differ in their preferenceforflanking nucleotides"
   ]
  },
  {
   "cell_type": "markdown",
   "metadata": {},
   "source": [
    "## Conservation of ancient motifs\n",
    "![Ray D., et al. Nature 2013, Fig 2](img/f2.jpg){ width=90% }"
   ]
  },
  {
   "cell_type": "markdown",
   "metadata": {},
   "source": [
    "## RBD sequence identity enables inference of RNA motifs\n",
    "- Amino acid sequence identity higher than ~70% yields very similar motifs\n",
    "- `RNAcompete` data captured 57% of all human RBPs contained multiple RBDs, assuming 70% sequence identity\n",
    "- Validation of motifs predicted for proteins at 61–96% amino acid identity"
   ]
  },
  {
   "cell_type": "markdown",
   "metadata": {},
   "source": [
    "## RBD sequence identity enables inference of RNA motifs\n",
    "![Ray D., et al. Nature 2013, Fig 3](img/f3.jpg){ width=90% }"
   ]
  },
  {
   "cell_type": "markdown",
   "metadata": {},
   "source": [
    "## Sequence conservation of motif matches\n",
    "- Motifs for most RBP families display significant conservation in one or more of the three regions examined."
   ]
  },
  {
   "cell_type": "markdown",
   "metadata": {},
   "source": [
    "## Sequence conservation of motif matches\n",
    "![Ray D., et al. Nature 2013, Fig 4](img/f4.jpg){ width=70% }"
   ]
  },
  {
   "cell_type": "markdown",
   "metadata": {},
   "source": [
    "## Insights into RBP multi-functionality\n",
    "- Role of RBPs in mRNA stability: positive/negative regulator\n",
    "    - For example: RBFOX1 positively regulates mRNA stability/stabilizes its predicted mRNA targets\n",
    "- Reduction of the stability of RBFOX1 targets may affect nervous-system-specific processes\n",
    "    - Levels of RBFOX1 in the brains of individuals with autism is associated with changes in alternative splicing of exons "
   ]
  },
  {
   "cell_type": "markdown",
   "metadata": {},
   "source": [
    "## Insights into RBP multi-functionality\n",
    "![Ray D., et al. Nature 2013, Fig 5](img/f5.jpg){ width=70% }"
   ]
  },
  {
   "cell_type": "markdown",
   "metadata": {},
   "source": [
    "# Discussion\n",
    "## Significance\n",
    "- The resulting motifs represent an unprecedented resource for the analysis of post-transcriptional regulation across eukaryotes; \n",
    "- provide insight into the function and evolution of both RBPs and their binding sites; \n",
    "- reveal broad linkages among different post-transcriptional regulation processes; \n",
    "- uncover an unexpected role for a splicing factor in the control of transcript abundance that is mis-regulated in autism."
   ]
  }
 ],
 "metadata": {
  "kernelspec": {
   "display_name": "Python 3",
   "language": "python",
   "name": "python3"
  },
  "language_info": {
   "codemirror_mode": {
    "name": "ipython",
    "version": 3
   },
   "file_extension": ".py",
   "mimetype": "text/x-python",
   "name": "python",
   "nbconvert_exporter": "python",
   "pygments_lexer": "ipython3",
   "version": "3.6.1"
  }
 },
 "nbformat": 4,
 "nbformat_minor": 2
}
