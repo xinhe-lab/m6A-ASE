{
 "cells": [
  {
   "cell_type": "markdown",
   "metadata": {},
   "source": [
    "# Determine if SNP changes RSS of nearby m6A motif GGACU"
   ]
  },
  {
   "cell_type": "markdown",
   "metadata": {},
   "source": [
    "## Step 1: Obtain mutation ID, ref and alt on `dbSNP`\n",
    "Obtain mutation position according to its chromosome and position on genotype, and get responding `snpID` on `dbSNP`."
   ]
  },
  {
   "cell_type": "code",
   "execution_count": 1,
   "metadata": {},
   "outputs": [],
   "source": [
    "import pandas as pd\n",
    "import os\n",
    "import matplotlib.pyplot as plt\n",
    "path = os.path.expanduser(\"~/Documents/m6A/\")\n",
    "exon_m6AQTL = f\"{path}/Data/exon_m6AQTLs.txt\"\n",
    "output_exon_m6AQTL = f\"{path}/Data/exon_m6AQTLs.bed\"\n",
    "intron_m6AQTL = f\"{path}/Data/intron_m6AQTLs.txt\"\n",
    "output_intron_m6AQTL = f\"{path}/Data/intron_m6AQTLs.bed\"\n",
    "output_dbSNP = f\"{path}/Data/dbSNP/dbSNP.vcf.gz\"\n",
    "n = 200"
   ]
  },
  {
   "cell_type": "markdown",
   "metadata": {},
   "source": [
    "Import dbSNP and export the first five columns, only need to do it once."
   ]
  },
  {
   "cell_type": "code",
   "execution_count": 2,
   "metadata": {},
   "outputs": [],
   "source": [
    "# input_dbSNP = f\"{path}/Data/dbSNP/common_all_20170710.vcf.gz\"\n",
    "# dbSNP = pd.read_table(input_dbSNP, header = 56, compression = \"gzip\", usecols = [0,1,2,3,4], low_memory = False)\n",
    "# dbSNP.to_csv(output_dbSNP, compression = \"gzip\", sep = \"\\t\", index = False)"
   ]
  },
  {
   "cell_type": "markdown",
   "metadata": {},
   "source": [
    "Handle exon and intron m6AQTL data\n",
    "1. sort by chromosome and pos\n",
    "2. plus and minus 200 for each pos"
   ]
  },
  {
   "cell_type": "code",
   "execution_count": 3,
   "metadata": {},
   "outputs": [],
   "source": [
    "def load_m6AQTL(data_path):\n",
    "    data = pd.read_table(data_path, header = 0)\n",
    "    data = data.sort_values(by = [\"chr\", \"pos\"])\n",
    "    data = data.set_index([[i for i in range(data.shape[0])]])\n",
    "    data[\"strand\"] = data.apply(lambda row: row[\"peakID\"].split(\"_\")[-1], axis = 1)\n",
    "    data[\"gene_symbol\"] = data.apply(lambda row: row[\"peakID\"].split(\"_\")[0], axis = 1)\n",
    "    data[\"start\"] = data.apply(lambda row: int(row[\"peakID\"].split(\"_\")[1]), axis = 1)\n",
    "    data[\"end\"] = data.apply(lambda row: int(row[\"peakID\"].split(\"_\")[2]), axis = 1)\n",
    "    data[\"width\"] = data.apply(lambda row: row[\"end\"] - row[\"start\"], axis = 1)\n",
    "    data[\"pos1\"] = data.apply(lambda row: row[\"pos\"] - n, axis = 1)\n",
    "    data[\"pos2\"] = data.apply(lambda row: row[\"pos\"] + n, axis = 1)\n",
    "    data[\"gap\"] = data.apply(lambda row: row[\"start\"] - row[\"pos\"], axis = 1)\n",
    "    data[\"in\"] = data.apply(lambda row: 1 if row[\"pos\"] >= row[\"start\"] and row[\"pos\"] <= row[\"end\"] else 0,axis=1)\n",
    "    return data"
   ]
  },
  {
   "cell_type": "code",
   "execution_count": 4,
   "metadata": {},
   "outputs": [],
   "source": [
    "intron_m6AQTL = load_m6AQTL(intron_m6AQTL)\n",
    "exon_m6AQTL = load_m6AQTL(exon_m6AQTL)"
   ]
  },
  {
   "cell_type": "code",
   "execution_count": 5,
   "metadata": {},
   "outputs": [
    {
     "name": "stdout",
     "output_type": "stream",
     "text": [
      "(12743, 18) (2997, 18)\n"
     ]
    }
   ],
   "source": [
    "print (intron_m6AQTL.shape, exon_m6AQTL.shape)"
   ]
  },
  {
   "cell_type": "code",
   "execution_count": 6,
   "metadata": {
    "scrolled": true
   },
   "outputs": [
    {
     "data": {
      "text/html": [
       "<div>\n",
       "<style scoped>\n",
       "    .dataframe tbody tr th:only-of-type {\n",
       "        vertical-align: middle;\n",
       "    }\n",
       "\n",
       "    .dataframe tbody tr th {\n",
       "        vertical-align: top;\n",
       "    }\n",
       "\n",
       "    .dataframe thead th {\n",
       "        text-align: right;\n",
       "    }\n",
       "</style>\n",
       "<table border=\"1\" class=\"dataframe\">\n",
       "  <thead>\n",
       "    <tr style=\"text-align: right;\">\n",
       "      <th></th>\n",
       "      <th>chr</th>\n",
       "      <th>pos</th>\n",
       "      <th>snpID</th>\n",
       "      <th>start</th>\n",
       "      <th>end</th>\n",
       "      <th>width</th>\n",
       "      <th>pos1</th>\n",
       "      <th>pos2</th>\n",
       "      <th>gene_symbol</th>\n",
       "      <th>gap</th>\n",
       "      <th>strand</th>\n",
       "    </tr>\n",
       "  </thead>\n",
       "  <tbody>\n",
       "    <tr>\n",
       "      <th>0</th>\n",
       "      <td>chr1</td>\n",
       "      <td>899937</td>\n",
       "      <td>rs143296006</td>\n",
       "      <td>981788</td>\n",
       "      <td>981988</td>\n",
       "      <td>200</td>\n",
       "      <td>899737</td>\n",
       "      <td>900137</td>\n",
       "      <td>AGRN</td>\n",
       "      <td>81851</td>\n",
       "      <td>+</td>\n",
       "    </tr>\n",
       "    <tr>\n",
       "      <th>1</th>\n",
       "      <td>chr1</td>\n",
       "      <td>899938</td>\n",
       "      <td>rs147467971</td>\n",
       "      <td>981788</td>\n",
       "      <td>981988</td>\n",
       "      <td>200</td>\n",
       "      <td>899738</td>\n",
       "      <td>900138</td>\n",
       "      <td>AGRN</td>\n",
       "      <td>81850</td>\n",
       "      <td>+</td>\n",
       "    </tr>\n",
       "    <tr>\n",
       "      <th>2</th>\n",
       "      <td>chr1</td>\n",
       "      <td>899942</td>\n",
       "      <td>rs71509448</td>\n",
       "      <td>981788</td>\n",
       "      <td>981988</td>\n",
       "      <td>200</td>\n",
       "      <td>899742</td>\n",
       "      <td>900142</td>\n",
       "      <td>AGRN</td>\n",
       "      <td>81846</td>\n",
       "      <td>+</td>\n",
       "    </tr>\n",
       "    <tr>\n",
       "      <th>3</th>\n",
       "      <td>chr1</td>\n",
       "      <td>943468</td>\n",
       "      <td>rs3121567</td>\n",
       "      <td>949466</td>\n",
       "      <td>949516</td>\n",
       "      <td>50</td>\n",
       "      <td>943268</td>\n",
       "      <td>943668</td>\n",
       "      <td>ISG15</td>\n",
       "      <td>5998</td>\n",
       "      <td>+</td>\n",
       "    </tr>\n",
       "    <tr>\n",
       "      <th>4</th>\n",
       "      <td>chr1</td>\n",
       "      <td>945612</td>\n",
       "      <td>rs3121565</td>\n",
       "      <td>949466</td>\n",
       "      <td>949516</td>\n",
       "      <td>50</td>\n",
       "      <td>945412</td>\n",
       "      <td>945812</td>\n",
       "      <td>ISG15</td>\n",
       "      <td>3854</td>\n",
       "      <td>+</td>\n",
       "    </tr>\n",
       "  </tbody>\n",
       "</table>\n",
       "</div>"
      ],
      "text/plain": [
       "    chr     pos        snpID   start     end  width    pos1    pos2  \\\n",
       "0  chr1  899937  rs143296006  981788  981988    200  899737  900137   \n",
       "1  chr1  899938  rs147467971  981788  981988    200  899738  900138   \n",
       "2  chr1  899942   rs71509448  981788  981988    200  899742  900142   \n",
       "3  chr1  943468    rs3121567  949466  949516     50  943268  943668   \n",
       "4  chr1  945612    rs3121565  949466  949516     50  945412  945812   \n",
       "\n",
       "  gene_symbol    gap strand  \n",
       "0        AGRN  81851      +  \n",
       "1        AGRN  81850      +  \n",
       "2        AGRN  81846      +  \n",
       "3       ISG15   5998      +  \n",
       "4       ISG15   3854      +  "
      ]
     },
     "execution_count": 6,
     "metadata": {},
     "output_type": "execute_result"
    }
   ],
   "source": [
    "intron_m6AQTL[[\"chr\", \"pos\", \"snpID\", \"start\", \"end\", \"width\", \"pos1\", \"pos2\", \"gene_symbol\", \"gap\", \"strand\"]].head(5)"
   ]
  },
  {
   "cell_type": "code",
   "execution_count": 7,
   "metadata": {},
   "outputs": [
    {
     "data": {
      "text/html": [
       "<div>\n",
       "<style scoped>\n",
       "    .dataframe tbody tr th:only-of-type {\n",
       "        vertical-align: middle;\n",
       "    }\n",
       "\n",
       "    .dataframe tbody tr th {\n",
       "        vertical-align: top;\n",
       "    }\n",
       "\n",
       "    .dataframe thead th {\n",
       "        text-align: right;\n",
       "    }\n",
       "</style>\n",
       "<table border=\"1\" class=\"dataframe\">\n",
       "  <thead>\n",
       "    <tr style=\"text-align: right;\">\n",
       "      <th></th>\n",
       "      <th>chr</th>\n",
       "      <th>pos</th>\n",
       "      <th>snpID</th>\n",
       "      <th>start</th>\n",
       "      <th>end</th>\n",
       "      <th>width</th>\n",
       "      <th>pos1</th>\n",
       "      <th>pos2</th>\n",
       "      <th>gene_symbol</th>\n",
       "      <th>gap</th>\n",
       "      <th>strand</th>\n",
       "    </tr>\n",
       "  </thead>\n",
       "  <tbody>\n",
       "    <tr>\n",
       "      <th>0</th>\n",
       "      <td>chr1</td>\n",
       "      <td>889403</td>\n",
       "      <td>rs62639963</td>\n",
       "      <td>879858</td>\n",
       "      <td>881654</td>\n",
       "      <td>1796</td>\n",
       "      <td>889203</td>\n",
       "      <td>889603</td>\n",
       "      <td>NOC2L</td>\n",
       "      <td>-9545</td>\n",
       "      <td>-</td>\n",
       "    </tr>\n",
       "    <tr>\n",
       "      <th>1</th>\n",
       "      <td>chr1</td>\n",
       "      <td>943468</td>\n",
       "      <td>rs3121567</td>\n",
       "      <td>949466</td>\n",
       "      <td>949516</td>\n",
       "      <td>50</td>\n",
       "      <td>943268</td>\n",
       "      <td>943668</td>\n",
       "      <td>ISG15</td>\n",
       "      <td>5998</td>\n",
       "      <td>+</td>\n",
       "    </tr>\n",
       "    <tr>\n",
       "      <th>2</th>\n",
       "      <td>chr1</td>\n",
       "      <td>947538</td>\n",
       "      <td>rs2465125</td>\n",
       "      <td>949466</td>\n",
       "      <td>949516</td>\n",
       "      <td>50</td>\n",
       "      <td>947338</td>\n",
       "      <td>947738</td>\n",
       "      <td>ISG15</td>\n",
       "      <td>1928</td>\n",
       "      <td>+</td>\n",
       "    </tr>\n",
       "    <tr>\n",
       "      <th>3</th>\n",
       "      <td>chr1</td>\n",
       "      <td>948421</td>\n",
       "      <td>rs113047134</td>\n",
       "      <td>949466</td>\n",
       "      <td>949516</td>\n",
       "      <td>50</td>\n",
       "      <td>948221</td>\n",
       "      <td>948621</td>\n",
       "      <td>ISG15</td>\n",
       "      <td>1045</td>\n",
       "      <td>+</td>\n",
       "    </tr>\n",
       "    <tr>\n",
       "      <th>4</th>\n",
       "      <td>chr1</td>\n",
       "      <td>948846</td>\n",
       "      <td>rs3841266</td>\n",
       "      <td>949466</td>\n",
       "      <td>949516</td>\n",
       "      <td>50</td>\n",
       "      <td>948646</td>\n",
       "      <td>949046</td>\n",
       "      <td>ISG15</td>\n",
       "      <td>620</td>\n",
       "      <td>+</td>\n",
       "    </tr>\n",
       "  </tbody>\n",
       "</table>\n",
       "</div>"
      ],
      "text/plain": [
       "    chr     pos        snpID   start     end  width    pos1    pos2  \\\n",
       "0  chr1  889403   rs62639963  879858  881654   1796  889203  889603   \n",
       "1  chr1  943468    rs3121567  949466  949516     50  943268  943668   \n",
       "2  chr1  947538    rs2465125  949466  949516     50  947338  947738   \n",
       "3  chr1  948421  rs113047134  949466  949516     50  948221  948621   \n",
       "4  chr1  948846    rs3841266  949466  949516     50  948646  949046   \n",
       "\n",
       "  gene_symbol   gap strand  \n",
       "0       NOC2L -9545      -  \n",
       "1       ISG15  5998      +  \n",
       "2       ISG15  1928      +  \n",
       "3       ISG15  1045      +  \n",
       "4       ISG15   620      +  "
      ]
     },
     "execution_count": 7,
     "metadata": {},
     "output_type": "execute_result"
    }
   ],
   "source": [
    "exon_m6AQTL[[\"chr\", \"pos\", \"snpID\", \"start\", \"end\", \"width\", \"pos1\", \"pos2\", \"gene_symbol\", \"gap\", \"strand\"]].head(5)"
   ]
  },
  {
   "cell_type": "code",
   "execution_count": 8,
   "metadata": {
    "scrolled": true
   },
   "outputs": [
    {
     "data": {
      "image/png": "[encoded data removed]",
      "text/plain": [
       "<matplotlib.figure.Figure at 0x7f298667a908>"
      ]
     },
     "metadata": {},
     "output_type": "display_data"
    }
   ],
   "source": [
    "n1 = 1000\n",
    "# gap = intron_m6AQTL[\"gap\"].tolist()\n",
    "intron_gap = intron_m6AQTL[(intron_m6AQTL[\"gap\"] <= n1) & (intron_m6AQTL[\"gap\"] >= -n1)][\"gap\"].tolist()\n",
    "plt.hist(intron_gap, bins = 30)\n",
    "plt.title(\"Histogram of gap in introns (the distance between SNP pos and start of peak)\")\n",
    "plt.show()"
   ]
  },
  {
   "cell_type": "code",
   "execution_count": 9,
   "metadata": {},
   "outputs": [
    {
     "data": {
      "image/png": "[encoded data removed]",
      "text/plain": [
       "<matplotlib.figure.Figure at 0x7f2986abc710>"
      ]
     },
     "metadata": {},
     "output_type": "display_data"
    }
   ],
   "source": [
    "exon_gap = exon_m6AQTL[(exon_m6AQTL[\"gap\"] <= n1) & (exon_m6AQTL[\"gap\"] >= -n1)][\"gap\"].tolist()\n",
    "plt.hist(exon_gap, bins = 30)\n",
    "plt.title(\"Histogram of gap in exons (the distance between SNP pos and start of peak)\")\n",
    "plt.show()"
   ]
  },
  {
   "cell_type": "code",
   "execution_count": 10,
   "metadata": {
    "scrolled": true
   },
   "outputs": [
    {
     "data": {
      "text/html": [
       "<div>\n",
       "<style scoped>\n",
       "    .dataframe tbody tr th:only-of-type {\n",
       "        vertical-align: middle;\n",
       "    }\n",
       "\n",
       "    .dataframe tbody tr th {\n",
       "        vertical-align: top;\n",
       "    }\n",
       "\n",
       "    .dataframe thead th {\n",
       "        text-align: right;\n",
       "    }\n",
       "</style>\n",
       "<table border=\"1\" class=\"dataframe\">\n",
       "  <thead>\n",
       "    <tr style=\"text-align: right;\">\n",
       "      <th></th>\n",
       "      <th>#CHROM</th>\n",
       "      <th>POS</th>\n",
       "      <th>ID</th>\n",
       "      <th>REF</th>\n",
       "      <th>ALT</th>\n",
       "    </tr>\n",
       "  </thead>\n",
       "  <tbody>\n",
       "    <tr>\n",
       "      <th>0</th>\n",
       "      <td>1</td>\n",
       "      <td>10177</td>\n",
       "      <td>rs367896724</td>\n",
       "      <td>A</td>\n",
       "      <td>AC</td>\n",
       "    </tr>\n",
       "    <tr>\n",
       "      <th>1</th>\n",
       "      <td>1</td>\n",
       "      <td>10352</td>\n",
       "      <td>rs555500075</td>\n",
       "      <td>T</td>\n",
       "      <td>TA</td>\n",
       "    </tr>\n",
       "    <tr>\n",
       "      <th>2</th>\n",
       "      <td>1</td>\n",
       "      <td>10352</td>\n",
       "      <td>rs145072688</td>\n",
       "      <td>T</td>\n",
       "      <td>TA</td>\n",
       "    </tr>\n",
       "    <tr>\n",
       "      <th>3</th>\n",
       "      <td>1</td>\n",
       "      <td>10616</td>\n",
       "      <td>rs376342519</td>\n",
       "      <td>CCGCCGTTGCAAAGGCGCGCCG</td>\n",
       "      <td>C</td>\n",
       "    </tr>\n",
       "    <tr>\n",
       "      <th>4</th>\n",
       "      <td>1</td>\n",
       "      <td>10642</td>\n",
       "      <td>rs558604819</td>\n",
       "      <td>G</td>\n",
       "      <td>A</td>\n",
       "    </tr>\n",
       "  </tbody>\n",
       "</table>\n",
       "</div>"
      ],
      "text/plain": [
       "  #CHROM    POS           ID                     REF ALT\n",
       "0      1  10177  rs367896724                       A  AC\n",
       "1      1  10352  rs555500075                       T  TA\n",
       "2      1  10352  rs145072688                       T  TA\n",
       "3      1  10616  rs376342519  CCGCCGTTGCAAAGGCGCGCCG   C\n",
       "4      1  10642  rs558604819                       G   A"
      ]
     },
     "execution_count": 10,
     "metadata": {},
     "output_type": "execute_result"
    }
   ],
   "source": [
    "dbSNP = pd.read_table(output_dbSNP, compression = \"gzip\", header = 0, sep = \"\\t\", low_memory = False)\n",
    "dbSNP.head(5)"
   ]
  },
  {
   "cell_type": "code",
   "execution_count": 11,
   "metadata": {},
   "outputs": [],
   "source": [
    "def get_m6AQTL(data, output_path):\n",
    "    res = pd.merge(data, dbSNP, how = \"inner\", left_on = [\"pos\", \"snpID\"], right_on = [\"POS\", \"ID\"])\n",
    "    res[[\"chr\", \"pos1\", \"pos2\", \"gene_symbol\", \"width\", \"strand\"]].to_csv(output_path, \n",
    "                                                                   index = False, header = False, sep = \"\\t\")\n",
    "    cols = [\"#CHROM\", \"POS\", \"ID\", \"REF\", \"ALT\", \"strand\", \"start\", \"end\", \"width\", \"gene_symbol\", \"pos1\", \"pos2\", \n",
    "            \"beta\", \"FDR\"]\n",
    "    return res[cols]"
   ]
  },
  {
   "cell_type": "code",
   "execution_count": 12,
   "metadata": {},
   "outputs": [],
   "source": [
    "intron_m6AQTL = get_m6AQTL(intron_m6AQTL, output_intron_m6AQTL)\n",
    "exon_m6AQTL = get_m6AQTL(exon_m6AQTL, output_exon_m6AQTL)"
   ]
  },
  {
   "cell_type": "code",
   "execution_count": 13,
   "metadata": {},
   "outputs": [
    {
     "name": "stdout",
     "output_type": "stream",
     "text": [
      "(12537, 14) (2958, 14)\n"
     ]
    }
   ],
   "source": [
    "print (intron_m6AQTL.shape, exon_m6AQTL.shape)"
   ]
  },
  {
   "cell_type": "code",
   "execution_count": 14,
   "metadata": {},
   "outputs": [
    {
     "data": {
      "text/html": [
       "<div>\n",
       "<style scoped>\n",
       "    .dataframe tbody tr th:only-of-type {\n",
       "        vertical-align: middle;\n",
       "    }\n",
       "\n",
       "    .dataframe tbody tr th {\n",
       "        vertical-align: top;\n",
       "    }\n",
       "\n",
       "    .dataframe thead th {\n",
       "        text-align: right;\n",
       "    }\n",
       "</style>\n",
       "<table border=\"1\" class=\"dataframe\">\n",
       "  <thead>\n",
       "    <tr style=\"text-align: right;\">\n",
       "      <th></th>\n",
       "      <th>#CHROM</th>\n",
       "      <th>POS</th>\n",
       "      <th>ID</th>\n",
       "      <th>REF</th>\n",
       "      <th>ALT</th>\n",
       "      <th>strand</th>\n",
       "      <th>start</th>\n",
       "      <th>end</th>\n",
       "      <th>width</th>\n",
       "      <th>gene_symbol</th>\n",
       "      <th>pos1</th>\n",
       "      <th>pos2</th>\n",
       "      <th>beta</th>\n",
       "      <th>FDR</th>\n",
       "    </tr>\n",
       "  </thead>\n",
       "  <tbody>\n",
       "    <tr>\n",
       "      <th>0</th>\n",
       "      <td>1</td>\n",
       "      <td>889403</td>\n",
       "      <td>rs62639963</td>\n",
       "      <td>T</td>\n",
       "      <td>A</td>\n",
       "      <td>-</td>\n",
       "      <td>879858</td>\n",
       "      <td>881654</td>\n",
       "      <td>1796</td>\n",
       "      <td>NOC2L</td>\n",
       "      <td>889203</td>\n",
       "      <td>889603</td>\n",
       "      <td>0.457022</td>\n",
       "      <td>0.053686</td>\n",
       "    </tr>\n",
       "    <tr>\n",
       "      <th>1</th>\n",
       "      <td>1</td>\n",
       "      <td>943468</td>\n",
       "      <td>rs3121567</td>\n",
       "      <td>T</td>\n",
       "      <td>C</td>\n",
       "      <td>+</td>\n",
       "      <td>949466</td>\n",
       "      <td>949516</td>\n",
       "      <td>50</td>\n",
       "      <td>ISG15</td>\n",
       "      <td>943268</td>\n",
       "      <td>943668</td>\n",
       "      <td>0.175897</td>\n",
       "      <td>0.081956</td>\n",
       "    </tr>\n",
       "    <tr>\n",
       "      <th>2</th>\n",
       "      <td>1</td>\n",
       "      <td>947538</td>\n",
       "      <td>rs2465125</td>\n",
       "      <td>C</td>\n",
       "      <td>T</td>\n",
       "      <td>+</td>\n",
       "      <td>949466</td>\n",
       "      <td>949516</td>\n",
       "      <td>50</td>\n",
       "      <td>ISG15</td>\n",
       "      <td>947338</td>\n",
       "      <td>947738</td>\n",
       "      <td>0.183229</td>\n",
       "      <td>0.045959</td>\n",
       "    </tr>\n",
       "    <tr>\n",
       "      <th>3</th>\n",
       "      <td>1</td>\n",
       "      <td>948421</td>\n",
       "      <td>rs113047134</td>\n",
       "      <td>A</td>\n",
       "      <td>AAAC</td>\n",
       "      <td>+</td>\n",
       "      <td>949466</td>\n",
       "      <td>949516</td>\n",
       "      <td>50</td>\n",
       "      <td>ISG15</td>\n",
       "      <td>948221</td>\n",
       "      <td>948621</td>\n",
       "      <td>0.236611</td>\n",
       "      <td>0.089250</td>\n",
       "    </tr>\n",
       "    <tr>\n",
       "      <th>4</th>\n",
       "      <td>1</td>\n",
       "      <td>948846</td>\n",
       "      <td>rs3841266</td>\n",
       "      <td>T</td>\n",
       "      <td>TA</td>\n",
       "      <td>+</td>\n",
       "      <td>949466</td>\n",
       "      <td>949516</td>\n",
       "      <td>50</td>\n",
       "      <td>ISG15</td>\n",
       "      <td>948646</td>\n",
       "      <td>949046</td>\n",
       "      <td>0.190571</td>\n",
       "      <td>0.013104</td>\n",
       "    </tr>\n",
       "  </tbody>\n",
       "</table>\n",
       "</div>"
      ],
      "text/plain": [
       "  #CHROM     POS           ID REF   ALT strand   start     end  width  \\\n",
       "0      1  889403   rs62639963   T     A      -  879858  881654   1796   \n",
       "1      1  943468    rs3121567   T     C      +  949466  949516     50   \n",
       "2      1  947538    rs2465125   C     T      +  949466  949516     50   \n",
       "3      1  948421  rs113047134   A  AAAC      +  949466  949516     50   \n",
       "4      1  948846    rs3841266   T    TA      +  949466  949516     50   \n",
       "\n",
       "  gene_symbol    pos1    pos2      beta       FDR  \n",
       "0       NOC2L  889203  889603  0.457022  0.053686  \n",
       "1       ISG15  943268  943668  0.175897  0.081956  \n",
       "2       ISG15  947338  947738  0.183229  0.045959  \n",
       "3       ISG15  948221  948621  0.236611  0.089250  \n",
       "4       ISG15  948646  949046  0.190571  0.013104  "
      ]
     },
     "execution_count": 14,
     "metadata": {},
     "output_type": "execute_result"
    }
   ],
   "source": [
    "exon_m6AQTL.head(5)"
   ]
  },
  {
   "cell_type": "code",
   "execution_count": 18,
   "metadata": {},
   "outputs": [
    {
     "data": {
      "text/html": [
       "<div>\n",
       "<style scoped>\n",
       "    .dataframe tbody tr th:only-of-type {\n",
       "        vertical-align: middle;\n",
       "    }\n",
       "\n",
       "    .dataframe tbody tr th {\n",
       "        vertical-align: top;\n",
       "    }\n",
       "\n",
       "    .dataframe thead th {\n",
       "        text-align: right;\n",
       "    }\n",
       "</style>\n",
       "<table border=\"1\" class=\"dataframe\">\n",
       "  <thead>\n",
       "    <tr style=\"text-align: right;\">\n",
       "      <th></th>\n",
       "      <th>#CHROM</th>\n",
       "      <th>POS</th>\n",
       "      <th>ID</th>\n",
       "      <th>REF</th>\n",
       "      <th>ALT</th>\n",
       "      <th>strand</th>\n",
       "      <th>start</th>\n",
       "      <th>end</th>\n",
       "      <th>width</th>\n",
       "      <th>gene_symbol</th>\n",
       "      <th>pos1</th>\n",
       "      <th>pos2</th>\n",
       "      <th>beta</th>\n",
       "      <th>FDR</th>\n",
       "    </tr>\n",
       "  </thead>\n",
       "  <tbody>\n",
       "    <tr>\n",
       "      <th>0</th>\n",
       "      <td>1</td>\n",
       "      <td>899937</td>\n",
       "      <td>rs143296006</td>\n",
       "      <td>G</td>\n",
       "      <td>T</td>\n",
       "      <td>+</td>\n",
       "      <td>981788</td>\n",
       "      <td>981988</td>\n",
       "      <td>200</td>\n",
       "      <td>AGRN</td>\n",
       "      <td>899737</td>\n",
       "      <td>900137</td>\n",
       "      <td>0.209051</td>\n",
       "      <td>0.099675</td>\n",
       "    </tr>\n",
       "    <tr>\n",
       "      <th>1</th>\n",
       "      <td>1</td>\n",
       "      <td>899938</td>\n",
       "      <td>rs147467971</td>\n",
       "      <td>G</td>\n",
       "      <td>C,T</td>\n",
       "      <td>+</td>\n",
       "      <td>981788</td>\n",
       "      <td>981988</td>\n",
       "      <td>200</td>\n",
       "      <td>AGRN</td>\n",
       "      <td>899738</td>\n",
       "      <td>900138</td>\n",
       "      <td>0.209051</td>\n",
       "      <td>0.099675</td>\n",
       "    </tr>\n",
       "    <tr>\n",
       "      <th>2</th>\n",
       "      <td>1</td>\n",
       "      <td>899942</td>\n",
       "      <td>rs71509448</td>\n",
       "      <td>G</td>\n",
       "      <td>A</td>\n",
       "      <td>+</td>\n",
       "      <td>981788</td>\n",
       "      <td>981988</td>\n",
       "      <td>200</td>\n",
       "      <td>AGRN</td>\n",
       "      <td>899742</td>\n",
       "      <td>900142</td>\n",
       "      <td>0.256919</td>\n",
       "      <td>0.053348</td>\n",
       "    </tr>\n",
       "    <tr>\n",
       "      <th>3</th>\n",
       "      <td>1</td>\n",
       "      <td>943468</td>\n",
       "      <td>rs3121567</td>\n",
       "      <td>T</td>\n",
       "      <td>C</td>\n",
       "      <td>+</td>\n",
       "      <td>949466</td>\n",
       "      <td>949516</td>\n",
       "      <td>50</td>\n",
       "      <td>ISG15</td>\n",
       "      <td>943268</td>\n",
       "      <td>943668</td>\n",
       "      <td>0.175897</td>\n",
       "      <td>0.081956</td>\n",
       "    </tr>\n",
       "    <tr>\n",
       "      <th>4</th>\n",
       "      <td>1</td>\n",
       "      <td>945612</td>\n",
       "      <td>rs3121565</td>\n",
       "      <td>C</td>\n",
       "      <td>T</td>\n",
       "      <td>+</td>\n",
       "      <td>949466</td>\n",
       "      <td>949516</td>\n",
       "      <td>50</td>\n",
       "      <td>ISG15</td>\n",
       "      <td>945412</td>\n",
       "      <td>945812</td>\n",
       "      <td>0.193259</td>\n",
       "      <td>0.040843</td>\n",
       "    </tr>\n",
       "  </tbody>\n",
       "</table>\n",
       "</div>"
      ],
      "text/plain": [
       "  #CHROM     POS           ID REF  ALT strand   start     end  width  \\\n",
       "0      1  899937  rs143296006   G    T      +  981788  981988    200   \n",
       "1      1  899938  rs147467971   G  C,T      +  981788  981988    200   \n",
       "2      1  899942   rs71509448   G    A      +  981788  981988    200   \n",
       "3      1  943468    rs3121567   T    C      +  949466  949516     50   \n",
       "4      1  945612    rs3121565   C    T      +  949466  949516     50   \n",
       "\n",
       "  gene_symbol    pos1    pos2      beta       FDR  \n",
       "0        AGRN  899737  900137  0.209051  0.099675  \n",
       "1        AGRN  899738  900138  0.209051  0.099675  \n",
       "2        AGRN  899742  900142  0.256919  0.053348  \n",
       "3       ISG15  943268  943668  0.175897  0.081956  \n",
       "4       ISG15  945412  945812  0.193259  0.040843  "
      ]
     },
     "execution_count": 18,
     "metadata": {},
     "output_type": "execute_result"
    }
   ],
   "source": [
    "intron_m6AQTL.head(5)"
   ]
  },
  {
   "cell_type": "markdown",
   "metadata": {},
   "source": [
    "### Use \"bedtools\" in bash under the depository\n",
    "`~/Documents/m6A/Data/metApeakFisher`\n",
    "```\n",
    "bedtools intersect -a ../intron_m6AQTLs.bed -b peaks.merged.bed -s > peak.merged.intron.m6AQTL.bed\n",
    "bedtools intersect -a ../exon_m6AQTLs.bed -b peaks.merged.bed -s > peak.merged.exon.m6AQTL.bed\n",
    "```"
   ]
  },
  {
   "cell_type": "code",
   "execution_count": 16,
   "metadata": {
    "scrolled": true
   },
   "outputs": [
    {
     "data": {
      "image/png": "[encoded data removed]",
      "text/plain": [
       "<matplotlib.figure.Figure at 0x7f2986da04a8>"
      ]
     },
     "metadata": {},
     "output_type": "display_data"
    }
   ],
   "source": [
    "n2 = 500\n",
    "width = intron_m6AQTL[intron_m6AQTL[\"width\"] <= n2][\"width\"].tolist()\n",
    "plt.hist(width, bins = 25)\n",
    "plt.title(\"Histogram of width\")\n",
    "plt.show()"
   ]
  },
  {
   "cell_type": "markdown",
   "metadata": {},
   "source": [
    "# Step 2: "
   ]
  },
  {
   "cell_type": "markdown",
   "metadata": {},
   "source": [
    "@NTCNCCACCC:K00180:212:H7VCTBBXX:3:1101:21673:1033 1:N:0:NAATTCGT+AGGCTNTA\n",
    "@NCGNTCAAGA:K00180:212:H7VCTBBXX:3:1101:21755:1033 1:N:0:NAATTCGT+AGGCTNTA\n",
    "@NCTNCCCGAG:K00180:212:H7VCTBBXX:3:1101:21795:1033 1:N:0:NAATTCGT+AGGCTNTA\n",
    "@NTCNTCCAAC:K00180:212:H7VCTBBXX:3:1101:22465:1033 1:N:0:NAATTCGT+AGGCTNTA"
   ]
  },
  {
   "cell_type": "markdown",
   "metadata": {},
   "source": [
    "@<instrument>:<run number>:<flowcell ID>:<lane>:<tile>:<x-pos>:<y-pos> <read>:<is filtered>:<control number>:<sample number>"
   ]
  }
 ],
 "metadata": {
  "kernelspec": {
   "display_name": "Python 3",
   "language": "python",
   "name": "python3"
  },
  "language_info": {
   "codemirror_mode": {
    "name": "ipython",
    "version": 3
   },
   "file_extension": ".py",
   "mimetype": "text/x-python",
   "name": "python",
   "nbconvert_exporter": "python",
   "pygments_lexer": "ipython3",
   "version": "3.6.3"
  }
 },
 "nbformat": 4,
 "nbformat_minor": 2
}
