{
 "cells": [
  {
   "cell_type": "code",
   "execution_count": 1,
   "metadata": {},
   "outputs": [],
   "source": [
    "import pandas as pd\n",
    "import numpy as np\n",
    "from collections import Counter\n",
    "import matplotlib.pyplot as plt\n",
    "from pandasql import sqldf\n",
    "import os\n",
    "path = os.path.expanduser(\"~/Documents/m6A/Data\")"
   ]
  },
  {
   "cell_type": "markdown",
   "metadata": {},
   "source": [
    "### m6A peaks and nonpeaks"
   ]
  },
  {
   "cell_type": "code",
   "execution_count": 2,
   "metadata": {},
   "outputs": [],
   "source": [
    "m6A_peaks = pd.read_table(f\"{path}/metApeakFisher_jointpeaks_unmergebins_56lcls/unmerged_peaks_metApeak.bed\", \n",
    "                          header = 0)\n",
    "m6A_peaks = m6A_peaks.sort_values(by = [\"# chr\", \"chromStart\"])\n",
    "m6A_peaks = m6A_peaks.rename(columns = {\"# chr\": \"chr\"})\n",
    "m6A_peaks = m6A_peaks[m6A_peaks[\"score\"] < 0.05]"
   ]
  },
  {
   "cell_type": "code",
   "execution_count": 3,
   "metadata": {
    "scrolled": true
   },
   "outputs": [],
   "source": [
    "m6A_nonpeaks = pd.read_table(f\"{path}/metApeakFisher_jointpeaks_unmergebins_56lcls/unmerged_nonpeaks_metApeak.bed\",\n",
    "                             header = 0)\n",
    "m6A_nonpeaks = m6A_nonpeaks.sort_values(by = [\"score\"], ascending = False)\n",
    "m6A_nonpeaks = m6A_nonpeaks.rename(columns = {\"# chr\": \"chr\"})\n",
    "m6A_nonpeaks = m6A_nonpeaks.iloc[:10000, :]"
   ]
  },
  {
   "cell_type": "code",
   "execution_count": 4,
   "metadata": {},
   "outputs": [
    {
     "name": "stdout",
     "output_type": "stream",
     "text": [
      "(96192, 12) (10000, 12)\n"
     ]
    }
   ],
   "source": [
    "print (m6A_peaks.shape, m6A_nonpeaks.shape)"
   ]
  },
  {
   "cell_type": "code",
   "execution_count": 5,
   "metadata": {},
   "outputs": [],
   "source": [
    "peak_name = set(m6A_peaks[\"name\"])\n",
    "nonpeak_name = set(m6A_nonpeaks[\"name\"])\n",
    "uniq_peak_name = [name for name in peak_name if name not in nonpeak_name]\n",
    "uniq_nonpeak_name = [name for name in nonpeak_name if name not in peak_name]\n",
    "intersect_name = list(set(m6A_peaks[\"name\"]) & set(m6A_nonpeaks[\"name\"]))\n",
    "union_name = list(set(m6A_peaks[\"name\"]) | set(m6A_nonpeaks[\"name\"]))"
   ]
  },
  {
   "cell_type": "code",
   "execution_count": 6,
   "metadata": {
    "scrolled": true
   },
   "outputs": [
    {
     "data": {
      "text/plain": [
       "(4994, 1193, 3168, 9355)"
      ]
     },
     "execution_count": 6,
     "metadata": {},
     "output_type": "execute_result"
    }
   ],
   "source": [
    "len(uniq_peak_name), len(uniq_nonpeak_name), len(intersect_name), len(union_name)"
   ]
  },
  {
   "cell_type": "markdown",
   "metadata": {},
   "source": [
    "### RBP binding sites"
   ]
  },
  {
   "cell_type": "code",
   "execution_count": 7,
   "metadata": {},
   "outputs": [],
   "source": [
    "RBP_binding_sites = pd.read_table(f\"{path}/all.RBP.intersect.hg19.bed\", sep=\"\\t\", header = None, \n",
    "                                  names = [\"chr\", \"start\", \"end\", \"name\", \"peak_width\", \"strand\"])\n",
    "RBP_binding_sites = RBP_binding_sites[RBP_binding_sites[\"peak_width\"] <= 200]\n",
    "RBP_name = set(RBP_binding_sites[\"name\"])"
   ]
  },
  {
   "cell_type": "code",
   "execution_count": 8,
   "metadata": {},
   "outputs": [
    {
     "data": {
      "image/png": "[encoded data removed]",
      "text/plain": [
       "<matplotlib.figure.Figure at 0x7fadd119b9e8>"
      ]
     },
     "metadata": {},
     "output_type": "display_data"
    }
   ],
   "source": [
    "peak_width = RBP_binding_sites[\"peak_width\"].tolist()\n",
    "plt.hist(peak_width, bins = 20)  # arguments are passed to np.histogram\n",
    "plt.title(\"Histogram of RBP binding sites peak width\")\n",
    "plt.show()"
   ]
  },
  {
   "cell_type": "code",
   "execution_count": 12,
   "metadata": {},
   "outputs": [
    {
     "data": {
      "text/plain": [
       "121"
      ]
     },
     "execution_count": 12,
     "metadata": {},
     "output_type": "execute_result"
    }
   ],
   "source": [
    "len(RBP_name)"
   ]
  },
  {
   "cell_type": "code",
   "execution_count": 11,
   "metadata": {
    "scrolled": true
   },
   "outputs": [
    {
     "data": {
      "text/plain": [
       "97"
      ]
     },
     "execution_count": 11,
     "metadata": {},
     "output_type": "execute_result"
    }
   ],
   "source": [
    "len(RBP_name.intersection(peak_name))"
   ]
  },
  {
   "cell_type": "code",
   "execution_count": 13,
   "metadata": {},
   "outputs": [
    {
     "data": {
      "text/plain": [
       "61"
      ]
     },
     "execution_count": 13,
     "metadata": {},
     "output_type": "execute_result"
    }
   ],
   "source": [
    "len(RBP_name.intersection(nonpeak_name))"
   ]
  },
  {
   "cell_type": "markdown",
   "metadata": {},
   "source": [
    "### Check whether RBP binding sites are more common in m6A sites"
   ]
  },
  {
   "cell_type": "code",
   "execution_count": 34,
   "metadata": {},
   "outputs": [],
   "source": [
    "query = \"\"\"\n",
    "    SELECT peaks.chr, peaks.chromStart, peaks.chromEnd, peaks.name, peaks.score, rbp.chr, rbp.start, rbp.end, rbp.name, rbp.peak_width, rbp.strand\n",
    "    FROM m6A_peaks peaks LEFT JOIN RBP_binding_sites rbp\n",
    "    WHERE peaks.chr == \"chrY\" AND rbp.chr == \"chrY\"\n",
    "    AND (\n",
    "    (rbp.start >= peaks.chromStart AND rbp.start <= peaks.chromEnd)\n",
    "    OR\n",
    "    (rbp.end >= peaks.chromStart AND rbp.end <= peaks.chromEnd)\n",
    "    OR\n",
    "    (rbp.start <= peaks.chromStart AND rbp.end >= peaks.chromEnd)\n",
    "    )\n",
    "\"\"\""
   ]
  },
  {
   "cell_type": "code",
   "execution_count": 35,
   "metadata": {},
   "outputs": [],
   "source": [
    "peaks_Y = sqldf(query)"
   ]
  },
  {
   "cell_type": "code",
   "execution_count": 37,
   "metadata": {
    "scrolled": true
   },
   "outputs": [
    {
     "data": {
      "text/html": [
       "<div>\n",
       "<style scoped>\n",
       "    .dataframe tbody tr th:only-of-type {\n",
       "        vertical-align: middle;\n",
       "    }\n",
       "\n",
       "    .dataframe tbody tr th {\n",
       "        vertical-align: top;\n",
       "    }\n",
       "\n",
       "    .dataframe thead th {\n",
       "        text-align: right;\n",
       "    }\n",
       "</style>\n",
       "<table border=\"1\" class=\"dataframe\">\n",
       "  <thead>\n",
       "    <tr style=\"text-align: right;\">\n",
       "      <th></th>\n",
       "      <th>chr</th>\n",
       "      <th>chromStart</th>\n",
       "      <th>chromEnd</th>\n",
       "      <th>name</th>\n",
       "      <th>score</th>\n",
       "      <th>chr</th>\n",
       "      <th>start</th>\n",
       "      <th>end</th>\n",
       "      <th>name</th>\n",
       "      <th>peak_width</th>\n",
       "      <th>strand</th>\n",
       "    </tr>\n",
       "  </thead>\n",
       "  <tbody>\n",
       "    <tr>\n",
       "      <th>0</th>\n",
       "      <td>chrY</td>\n",
       "      <td>21154050</td>\n",
       "      <td>21154100</td>\n",
       "      <td>CD24</td>\n",
       "      <td>0.032</td>\n",
       "      <td>chrY</td>\n",
       "      <td>21154007</td>\n",
       "      <td>21154055</td>\n",
       "      <td>KHDRBS1</td>\n",
       "      <td>49</td>\n",
       "      <td>-</td>\n",
       "    </tr>\n",
       "    <tr>\n",
       "      <th>1</th>\n",
       "      <td>chrY</td>\n",
       "      <td>21154050</td>\n",
       "      <td>21154100</td>\n",
       "      <td>CD24</td>\n",
       "      <td>0.032</td>\n",
       "      <td>chrY</td>\n",
       "      <td>21154080</td>\n",
       "      <td>21154081</td>\n",
       "      <td>LIN28B</td>\n",
       "      <td>2</td>\n",
       "      <td>-</td>\n",
       "    </tr>\n",
       "    <tr>\n",
       "      <th>2</th>\n",
       "      <td>chrY</td>\n",
       "      <td>21154050</td>\n",
       "      <td>21154100</td>\n",
       "      <td>CD24</td>\n",
       "      <td>0.032</td>\n",
       "      <td>chrY</td>\n",
       "      <td>21154081</td>\n",
       "      <td>21154126</td>\n",
       "      <td>ZNF622</td>\n",
       "      <td>46</td>\n",
       "      <td>-</td>\n",
       "    </tr>\n",
       "    <tr>\n",
       "      <th>3</th>\n",
       "      <td>chrY</td>\n",
       "      <td>21154050</td>\n",
       "      <td>21154100</td>\n",
       "      <td>CD24</td>\n",
       "      <td>0.032</td>\n",
       "      <td>chrY</td>\n",
       "      <td>21154083</td>\n",
       "      <td>21154196</td>\n",
       "      <td>SAFB2</td>\n",
       "      <td>114</td>\n",
       "      <td>-</td>\n",
       "    </tr>\n",
       "    <tr>\n",
       "      <th>4</th>\n",
       "      <td>chrY</td>\n",
       "      <td>21154100</td>\n",
       "      <td>21154150</td>\n",
       "      <td>CD24</td>\n",
       "      <td>0.020</td>\n",
       "      <td>chrY</td>\n",
       "      <td>21154081</td>\n",
       "      <td>21154126</td>\n",
       "      <td>ZNF622</td>\n",
       "      <td>46</td>\n",
       "      <td>-</td>\n",
       "    </tr>\n",
       "    <tr>\n",
       "      <th>5</th>\n",
       "      <td>chrY</td>\n",
       "      <td>21154100</td>\n",
       "      <td>21154150</td>\n",
       "      <td>CD24</td>\n",
       "      <td>0.020</td>\n",
       "      <td>chrY</td>\n",
       "      <td>21154083</td>\n",
       "      <td>21154196</td>\n",
       "      <td>SAFB2</td>\n",
       "      <td>114</td>\n",
       "      <td>-</td>\n",
       "    </tr>\n",
       "    <tr>\n",
       "      <th>6</th>\n",
       "      <td>chrY</td>\n",
       "      <td>21154100</td>\n",
       "      <td>21154150</td>\n",
       "      <td>CD24</td>\n",
       "      <td>0.020</td>\n",
       "      <td>chrY</td>\n",
       "      <td>21154126</td>\n",
       "      <td>21154185</td>\n",
       "      <td>HLTF</td>\n",
       "      <td>60</td>\n",
       "      <td>-</td>\n",
       "    </tr>\n",
       "    <tr>\n",
       "      <th>7</th>\n",
       "      <td>chrY</td>\n",
       "      <td>21154100</td>\n",
       "      <td>21154150</td>\n",
       "      <td>CD24</td>\n",
       "      <td>0.020</td>\n",
       "      <td>chrY</td>\n",
       "      <td>21154133</td>\n",
       "      <td>21154168</td>\n",
       "      <td>YBX3</td>\n",
       "      <td>36</td>\n",
       "      <td>-</td>\n",
       "    </tr>\n",
       "    <tr>\n",
       "      <th>8</th>\n",
       "      <td>chrY</td>\n",
       "      <td>21154100</td>\n",
       "      <td>21154150</td>\n",
       "      <td>CD24</td>\n",
       "      <td>0.020</td>\n",
       "      <td>chrY</td>\n",
       "      <td>21154140</td>\n",
       "      <td>21154174</td>\n",
       "      <td>ZNF622</td>\n",
       "      <td>35</td>\n",
       "      <td>-</td>\n",
       "    </tr>\n",
       "    <tr>\n",
       "      <th>9</th>\n",
       "      <td>chrY</td>\n",
       "      <td>21154100</td>\n",
       "      <td>21154150</td>\n",
       "      <td>CD24</td>\n",
       "      <td>0.020</td>\n",
       "      <td>chrY</td>\n",
       "      <td>21154143</td>\n",
       "      <td>21154181</td>\n",
       "      <td>UPF1</td>\n",
       "      <td>39</td>\n",
       "      <td>-</td>\n",
       "    </tr>\n",
       "    <tr>\n",
       "      <th>10</th>\n",
       "      <td>chrY</td>\n",
       "      <td>21154150</td>\n",
       "      <td>21154200</td>\n",
       "      <td>CD24</td>\n",
       "      <td>0.032</td>\n",
       "      <td>chrY</td>\n",
       "      <td>21154083</td>\n",
       "      <td>21154196</td>\n",
       "      <td>SAFB2</td>\n",
       "      <td>114</td>\n",
       "      <td>-</td>\n",
       "    </tr>\n",
       "    <tr>\n",
       "      <th>11</th>\n",
       "      <td>chrY</td>\n",
       "      <td>21154150</td>\n",
       "      <td>21154200</td>\n",
       "      <td>CD24</td>\n",
       "      <td>0.032</td>\n",
       "      <td>chrY</td>\n",
       "      <td>21154126</td>\n",
       "      <td>21154185</td>\n",
       "      <td>HLTF</td>\n",
       "      <td>60</td>\n",
       "      <td>-</td>\n",
       "    </tr>\n",
       "    <tr>\n",
       "      <th>12</th>\n",
       "      <td>chrY</td>\n",
       "      <td>21154150</td>\n",
       "      <td>21154200</td>\n",
       "      <td>CD24</td>\n",
       "      <td>0.032</td>\n",
       "      <td>chrY</td>\n",
       "      <td>21154133</td>\n",
       "      <td>21154168</td>\n",
       "      <td>YBX3</td>\n",
       "      <td>36</td>\n",
       "      <td>-</td>\n",
       "    </tr>\n",
       "    <tr>\n",
       "      <th>13</th>\n",
       "      <td>chrY</td>\n",
       "      <td>21154150</td>\n",
       "      <td>21154200</td>\n",
       "      <td>CD24</td>\n",
       "      <td>0.032</td>\n",
       "      <td>chrY</td>\n",
       "      <td>21154140</td>\n",
       "      <td>21154174</td>\n",
       "      <td>ZNF622</td>\n",
       "      <td>35</td>\n",
       "      <td>-</td>\n",
       "    </tr>\n",
       "    <tr>\n",
       "      <th>14</th>\n",
       "      <td>chrY</td>\n",
       "      <td>21154150</td>\n",
       "      <td>21154200</td>\n",
       "      <td>CD24</td>\n",
       "      <td>0.032</td>\n",
       "      <td>chrY</td>\n",
       "      <td>21154143</td>\n",
       "      <td>21154181</td>\n",
       "      <td>UPF1</td>\n",
       "      <td>39</td>\n",
       "      <td>-</td>\n",
       "    </tr>\n",
       "    <tr>\n",
       "      <th>15</th>\n",
       "      <td>chrY</td>\n",
       "      <td>21154150</td>\n",
       "      <td>21154200</td>\n",
       "      <td>CD24</td>\n",
       "      <td>0.032</td>\n",
       "      <td>chrY</td>\n",
       "      <td>21154163</td>\n",
       "      <td>21154175</td>\n",
       "      <td>KHSRP</td>\n",
       "      <td>13</td>\n",
       "      <td>-</td>\n",
       "    </tr>\n",
       "    <tr>\n",
       "      <th>16</th>\n",
       "      <td>chrY</td>\n",
       "      <td>21154200</td>\n",
       "      <td>21154250</td>\n",
       "      <td>CD24</td>\n",
       "      <td>0.040</td>\n",
       "      <td>chrY</td>\n",
       "      <td>21154210</td>\n",
       "      <td>21154239</td>\n",
       "      <td>HLTF</td>\n",
       "      <td>30</td>\n",
       "      <td>-</td>\n",
       "    </tr>\n",
       "    <tr>\n",
       "      <th>17</th>\n",
       "      <td>chrY</td>\n",
       "      <td>21154200</td>\n",
       "      <td>21154250</td>\n",
       "      <td>CD24</td>\n",
       "      <td>0.040</td>\n",
       "      <td>chrY</td>\n",
       "      <td>21154239</td>\n",
       "      <td>21154243</td>\n",
       "      <td>UPF1</td>\n",
       "      <td>5</td>\n",
       "      <td>-</td>\n",
       "    </tr>\n",
       "  </tbody>\n",
       "</table>\n",
       "</div>"
      ],
      "text/plain": [
       "     chr  chromStart  chromEnd  name  score   chr     start       end  \\\n",
       "0   chrY    21154050  21154100  CD24  0.032  chrY  21154007  21154055   \n",
       "1   chrY    21154050  21154100  CD24  0.032  chrY  21154080  21154081   \n",
       "2   chrY    21154050  21154100  CD24  0.032  chrY  21154081  21154126   \n",
       "3   chrY    21154050  21154100  CD24  0.032  chrY  21154083  21154196   \n",
       "4   chrY    21154100  21154150  CD24  0.020  chrY  21154081  21154126   \n",
       "5   chrY    21154100  21154150  CD24  0.020  chrY  21154083  21154196   \n",
       "6   chrY    21154100  21154150  CD24  0.020  chrY  21154126  21154185   \n",
       "7   chrY    21154100  21154150  CD24  0.020  chrY  21154133  21154168   \n",
       "8   chrY    21154100  21154150  CD24  0.020  chrY  21154140  21154174   \n",
       "9   chrY    21154100  21154150  CD24  0.020  chrY  21154143  21154181   \n",
       "10  chrY    21154150  21154200  CD24  0.032  chrY  21154083  21154196   \n",
       "11  chrY    21154150  21154200  CD24  0.032  chrY  21154126  21154185   \n",
       "12  chrY    21154150  21154200  CD24  0.032  chrY  21154133  21154168   \n",
       "13  chrY    21154150  21154200  CD24  0.032  chrY  21154140  21154174   \n",
       "14  chrY    21154150  21154200  CD24  0.032  chrY  21154143  21154181   \n",
       "15  chrY    21154150  21154200  CD24  0.032  chrY  21154163  21154175   \n",
       "16  chrY    21154200  21154250  CD24  0.040  chrY  21154210  21154239   \n",
       "17  chrY    21154200  21154250  CD24  0.040  chrY  21154239  21154243   \n",
       "\n",
       "       name  peak_width strand  \n",
       "0   KHDRBS1          49      -  \n",
       "1    LIN28B           2      -  \n",
       "2    ZNF622          46      -  \n",
       "3     SAFB2         114      -  \n",
       "4    ZNF622          46      -  \n",
       "5     SAFB2         114      -  \n",
       "6      HLTF          60      -  \n",
       "7      YBX3          36      -  \n",
       "8    ZNF622          35      -  \n",
       "9      UPF1          39      -  \n",
       "10    SAFB2         114      -  \n",
       "11     HLTF          60      -  \n",
       "12     YBX3          36      -  \n",
       "13   ZNF622          35      -  \n",
       "14     UPF1          39      -  \n",
       "15    KHSRP          13      -  \n",
       "16     HLTF          30      -  \n",
       "17     UPF1           5      -  "
      ]
     },
     "execution_count": 37,
     "metadata": {},
     "output_type": "execute_result"
    }
   ],
   "source": [
    "peaks_Y"
   ]
  },
  {
   "cell_type": "code",
   "execution_count": 38,
   "metadata": {},
   "outputs": [],
   "source": [
    "query_non_peaks = \"\"\"\n",
    "    SELECT nonpeaks.chr, nonpeaks.chromStart, nonpeaks.chromEnd, nonpeaks.name, nonpeaks.score, rbp.chr, rbp.start, rbp.end, rbp.name, rbp.peak_width, rbp.strand\n",
    "    FROM m6A_nonpeaks nonpeaks LEFT JOIN RBP_binding_sites rbp\n",
    "    WHERE nonpeaks.chr == \"chrY\" AND rbp.chr == \"chrY\"\n",
    "    AND (\n",
    "    (rbp.start >= nonpeaks.chromStart AND rbp.start <= nonpeaks.chromEnd)\n",
    "    OR\n",
    "    (rbp.end >= nonpeaks.chromStart AND rbp.end <= nonpeaks.chromEnd)\n",
    "    OR\n",
    "    (rbp.start <= nonpeaks.chromStart AND rbp.end >= nonpeaks.chromEnd)\n",
    "    )\n",
    "\"\"\""
   ]
  },
  {
   "cell_type": "code",
   "execution_count": 39,
   "metadata": {},
   "outputs": [],
   "source": [
    "non_peaks_Y = sqldf(query_non_peaks)"
   ]
  },
  {
   "cell_type": "code",
   "execution_count": 40,
   "metadata": {
    "scrolled": true
   },
   "outputs": [
    {
     "data": {
      "text/html": [
       "<div>\n",
       "<style scoped>\n",
       "    .dataframe tbody tr th:only-of-type {\n",
       "        vertical-align: middle;\n",
       "    }\n",
       "\n",
       "    .dataframe tbody tr th {\n",
       "        vertical-align: top;\n",
       "    }\n",
       "\n",
       "    .dataframe thead th {\n",
       "        text-align: right;\n",
       "    }\n",
       "</style>\n",
       "<table border=\"1\" class=\"dataframe\">\n",
       "  <thead>\n",
       "    <tr style=\"text-align: right;\">\n",
       "      <th></th>\n",
       "      <th>chr</th>\n",
       "      <th>chromStart</th>\n",
       "      <th>chromEnd</th>\n",
       "      <th>name</th>\n",
       "      <th>score</th>\n",
       "      <th>chr</th>\n",
       "      <th>start</th>\n",
       "      <th>end</th>\n",
       "      <th>name</th>\n",
       "      <th>peak_width</th>\n",
       "      <th>strand</th>\n",
       "    </tr>\n",
       "  </thead>\n",
       "  <tbody>\n",
       "  </tbody>\n",
       "</table>\n",
       "</div>"
      ],
      "text/plain": [
       "Empty DataFrame\n",
       "Columns: [chr, chromStart, chromEnd, name, score, chr, start, end, name, peak_width, strand]\n",
       "Index: []"
      ]
     },
     "execution_count": 40,
     "metadata": {},
     "output_type": "execute_result"
    }
   ],
   "source": [
    "non_peaks_Y"
   ]
  },
  {
   "cell_type": "code",
   "execution_count": 44,
   "metadata": {},
   "outputs": [
    {
     "data": {
      "text/plain": [
       "8162"
      ]
     },
     "execution_count": 44,
     "metadata": {},
     "output_type": "execute_result"
    }
   ],
   "source": [
    "len(set(m6A_peaks[\"name\"]))"
   ]
  },
  {
   "cell_type": "code",
   "execution_count": 45,
   "metadata": {},
   "outputs": [
    {
     "data": {
      "text/plain": [
       "4361"
      ]
     },
     "execution_count": 45,
     "metadata": {},
     "output_type": "execute_result"
    }
   ],
   "source": [
    "len(set(m6A_nonpeaks[\"name\"]))"
   ]
  },
  {
   "cell_type": "code",
   "execution_count": 49,
   "metadata": {},
   "outputs": [],
   "source": [
    "common_RBP = [name for name in set(m6A_peaks[\"name\"]) if name in set(m6A_nonpeaks[\"name\"])]"
   ]
  },
  {
   "cell_type": "code",
   "execution_count": 50,
   "metadata": {},
   "outputs": [
    {
     "data": {
      "text/plain": [
       "3168"
      ]
     },
     "execution_count": 50,
     "metadata": {},
     "output_type": "execute_result"
    }
   ],
   "source": [
    "len(common_RBP)"
   ]
  },
  {
   "cell_type": "code",
   "execution_count": null,
   "metadata": {},
   "outputs": [],
   "source": []
  }
 ],
 "metadata": {
  "kernelspec": {
   "display_name": "Python 3",
   "language": "python",
   "name": "python3"
  },
  "language_info": {
   "codemirror_mode": {
    "name": "ipython",
    "version": 3
   },
   "file_extension": ".py",
   "mimetype": "text/x-python",
   "name": "python",
   "nbconvert_exporter": "python",
   "pygments_lexer": "ipython3",
   "version": "3.6.3"
  }
 },
 "nbformat": 4,
 "nbformat_minor": 2
}
