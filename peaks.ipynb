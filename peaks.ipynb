{
 "cells": [
  {
   "cell_type": "markdown",
   "metadata": {},
   "source": [
    "# Fisher Exact test for m6A peak/nonpeak and RBP binding sites\n",
    "#### Use merged/unmerged m6A peak and unmerged nonpeak, obtain their intersections with RBP binding sites respectively.\n",
    "#### Perform Fisher's exact test for each RBP: \n",
    "(1) the number of intersection with m6A peaks\n",
    "\n",
    "(2) the total number of intersection with peaks minus (1)\n",
    "\n",
    "(3) the number of intersection with nonpeaks\n",
    "\n",
    "(4) the total number of intersection with nonpeaks minus (3)\n",
    "#### Check the test statistics for potential m6A binding proteins (YTHDF, HNRNP, FMRP, IGF2BP, G3BP)\n",
    "There are no RBPs that contains keywords \"YTHDF\" or \"G3BP\". Only \"HNRNP\", \"FMR1\" and \"IGF2BP\" are found, including 'IGF2BP3', 'HNRNPUL1', 'HNRNPA1', 'HNRNPM', 'IGF2BP1', \"FMR1\", 'HNRNPK', 'HNRNPU', 'IGF2BP2', 'HNRNPC'."
   ]
  },
  {
   "cell_type": "code",
   "execution_count": 1,
   "metadata": {},
   "outputs": [],
   "source": [
    "import pandas as pd, numpy as np\n",
    "from pybedtools import BedTool\n",
    "from collections import Counter\n",
    "import matplotlib.pyplot as plt\n",
    "from scipy import stats\n",
    "from fisher import pvalue\n",
    "import os\n",
    "path = os.path.expanduser(\"~/Documents/m6A/\")\n",
    "input_m6A_peak = f\"{path}/Data/metApeakFisher/unmerged_peaks_metApeak.bed\"\n",
    "input_m6A_peak_merged = f\"{path}/Data/metApeakFisher/joint_merged_peaks_counts.xlsx\"\n",
    "input_m6A_nonpeak = f\"{path}/Data/metApeakFisher/unmerged_nonpeaks_metApeak.bed\"\n",
    "input_RBP = f\"{path}/Data/all.RBP.intersect.hg19.bed\"\n",
    "input_intersect_peak = f\"{path}/Data/metApeakFisher/peak.intersect.RBP.bed\"\n",
    "input_intersect_nonpeak = f\"{path}/Data/metApeakFisher/nonpeak.intersect.RBP.bed\"\n",
    "# smb://helabdata1.uchicago.edu/m6aqtl/peakcalling/WASP201712_metApeakFisher_merged/JointPeak_merged/\n",
    "input_intersect_peak_merged = f\"{path}/Data/metApeakFisher/peak.merged.intersect.RBP.bed\"\n",
    "output_m6A_peak_merged = f\"{path}/Data/metApeakFisher/joint_merged_peaks_counts.bed\""
   ]
  },
  {
   "cell_type": "markdown",
   "metadata": {},
   "source": [
    "### Merged m6A peaks"
   ]
  },
  {
   "cell_type": "code",
   "execution_count": 2,
   "metadata": {},
   "outputs": [],
   "source": [
    "# First convert excel to bed\n",
    "# only need to do it once. bed file must be tab separated, false index, column \"chr\" rename to \"# chr\"\n",
    "# then sort it and use bedtools to obtain intersect with RBP in bash\n",
    "m6A_peaks_merged = pd.read_excel(input_m6A_peak_merged, usecols = [0,1,2,3,4,5])\n",
    "m6A_peaks_merged = m6A_peaks_merged.rename(columns = {\"chr\": \"# chr\"})\n",
    "m6A_peaks_merged.to_csv(output_m6A_peak_merged, index = False, sep = \"\\t\")"
   ]
  },
  {
   "cell_type": "markdown",
   "metadata": {},
   "source": [
    "### Unmerged m6A peaks and nonpeaks"
   ]
  },
  {
   "cell_type": "code",
   "execution_count": 3,
   "metadata": {},
   "outputs": [],
   "source": [
    "m6A_peaks = pd.read_table(input_m6A_peak, header = 0)\n",
    "m6A_peaks = m6A_peaks.sort_values(by = [\"# chr\", \"chromStart\"])\n",
    "m6A_peaks = m6A_peaks.rename(columns = {\"# chr\": \"chr\"})\n",
    "# m6A_peaks = m6A_peaks[m6A_peaks[\"score\"] < 0.05]"
   ]
  },
  {
   "cell_type": "code",
   "execution_count": 4,
   "metadata": {
    "scrolled": true
   },
   "outputs": [],
   "source": [
    "m6A_nonpeaks = pd.read_table(input_m6A_nonpeak, header = 0)\n",
    "m6A_nonpeaks = m6A_nonpeaks.sort_values(by = [\"# chr\", \"chromStart\"])\n",
    "m6A_nonpeaks = m6A_nonpeaks.rename(columns = {\"# chr\": \"chr\"})\n",
    "# m6A_nonpeaks = m6A_nonpeaks.sort_values(by = [\"score\"], ascending = False)\n",
    "# m6A_nonpeaks = m6A_nonpeaks.iloc[:10000, :]"
   ]
  },
  {
   "cell_type": "code",
   "execution_count": 5,
   "metadata": {},
   "outputs": [
    {
     "name": "stdout",
     "output_type": "stream",
     "text": [
      "(184390, 12) (282904, 12)\n"
     ]
    }
   ],
   "source": [
    "print (m6A_peaks.shape, m6A_nonpeaks.shape)"
   ]
  },
  {
   "cell_type": "markdown",
   "metadata": {},
   "source": [
    "### RBP binding sites"
   ]
  },
  {
   "cell_type": "code",
   "execution_count": 6,
   "metadata": {},
   "outputs": [],
   "source": [
    "RBP_binding_sites = pd.read_table(input_RBP, sep=\"\\t\", header = None, \n",
    "                                  names = [\"chr\", \"start\", \"end\", \"RBP\", \"peak_width\", \"strand\"])\n",
    "RBP_binding_sites = RBP_binding_sites[RBP_binding_sites[\"peak_width\"] <= 200]\n",
    "RBP_name = set(RBP_binding_sites[\"RBP\"])\n",
    "RBP_name = list(RBP_name)\n",
    "RBP_name.sort()"
   ]
  },
  {
   "cell_type": "markdown",
   "metadata": {},
   "source": [
    "RBP peaks do not include \"YTHDF\", \"FMRP\" or \"G3BP\", only include \"HNRNP\" and \"IGF2BP\""
   ]
  },
  {
   "cell_type": "code",
   "execution_count": 8,
   "metadata": {},
   "outputs": [
    {
     "name": "stdout",
     "output_type": "stream",
     "text": [
      "{'NPM1', 'SERBP1', 'FXR1', 'RPS3', 'FUBP1', 'EIF3H', 'CSTF2', 'MTPAP', 'SLBP', 'DHX30', 'YBX3', 'RBM27', 'SMNDC1', 'EXOSC5', 'EIF4G1', 'LARP7', 'CDC40', 'GRWD1', 'TRA2A', 'LIN28B', 'FUBP3', 'EIF3D', 'BUD13', 'GPKOW', 'XRCC6', 'ZRANB2', 'IGF2BP2', 'FASTKD2', 'GRSF1', 'AGGF1', 'POLR2G', 'PTBP1', 'TARDBP', 'LARP4', 'DDX6', 'HLTF', 'ZNF622', 'TBRG4', 'U2AF2', 'DDX42', 'FAM120A', 'FTO', 'SND1', 'PUS1', 'TIA1', 'GNL3', 'SRSF7', 'YWHAG', 'EWSR1', 'FKBP4', 'FMR1', 'RPS11', 'FXR2', 'SUB1', 'CPSF6', 'TIAL1', 'BCCIP', 'NONO', 'NOLC1', 'HNRNPM', 'CSTF2T', 'RPS5', 'PPIG', 'SBDS', 'PPIL4', 'GTF2F1', 'U2AF1', 'UCHL5', 'SF3A3', 'LSM11', 'DDX24', 'XRN2', 'SRSF1', 'SUPV3L1', 'DDX3X', 'DGCR8', 'SLTM', 'IGF2BP1', 'DROSHA', 'QKI', 'SUGP2', 'GEMIN5', 'TROVE2', 'RBM15', 'HNRNPUL1', 'HNRNPU', 'NOL12', 'SF3B1', 'HNRNPK', 'SFPQ', 'TAF15', 'HNRNPA1', 'METAP2', 'AKAP8L', 'SAFB2', 'PCBP2', 'RBM22', 'TNRC6A', 'DKC1', 'UPF1', 'NSUN2', 'KHSRP', 'SF3B4', 'KHDRBS1', 'FUS', 'PRPF8', 'EIF4G2', 'SRSF9', 'RBM5', 'RBFOX2', 'EFTUD2', 'AUH', 'PUM2', 'DDX59', 'NKRF', 'HNRNPC', 'ILF3', 'IGF2BP3', 'NCBP2', 'DDX55', 'XPO5'}\n"
     ]
    }
   ],
   "source": [
    "# RBP peaks do not include \"YTHDF\", \"FMRP\", \"G3BP\", only include \"HNRNP\" and \"IGF2BP\"\n",
    "print (set(RBP_binding_sites[\"RBP\"]))"
   ]
  },
  {
   "cell_type": "code",
   "execution_count": 9,
   "metadata": {},
   "outputs": [
    {
     "data": {
      "image/png": "[encoded data removed]",
      "text/plain": [
       "<matplotlib.figure.Figure at 0x7f47ee84b128>"
      ]
     },
     "metadata": {},
     "output_type": "display_data"
    }
   ],
   "source": [
    "peak_width = RBP_binding_sites[\"peak_width\"].tolist()\n",
    "plt.hist(peak_width, bins = 20)  # arguments are passed to np.histogram\n",
    "plt.title(\"Histogram of RBP binding sites peak width\")\n",
    "plt.show()"
   ]
  },
  {
   "cell_type": "markdown",
   "metadata": {},
   "source": [
    "### Use \"bedtools\" in bash\n",
    "sort -k1,1 -k2,2n unmerged_peaks_metApeak.bed > peaks.bed\n",
    "\n",
    "sort -k1,1 -k2,2n unmerged_nonpeaks_metApeak.bed > nonpeaks.bed\n",
    "\n",
    "bedtools intersect -a ../all.RBP.intersect.hg19.bed -b peaks.bed -s > peak.intersect.RBP.bed\n",
    "\n",
    "bedtools intersect -a ../all.RBP.intersect.hg19.bed -b nonpeaks.bed -s > nonpeak.intersect.RBP.bed\n",
    "\n",
    "#### First sort merged peaks, then use the sorted to obtain intersection with RBP directly\n",
    "sort -k1,1 -k2,2n joint_merged_peaks_counts.bed > peaks.merged.bed\n",
    "\n",
    "bedtools intersect -a ../all.RBP.intersect.hg19.bed -b peaks.merged.bed -s > peak.merged.intersect.RBP.bed"
   ]
  },
  {
   "cell_type": "code",
   "execution_count": 10,
   "metadata": {},
   "outputs": [],
   "source": [
    "def read_intersect(fn, head = None, cols = [\"chr\", \"chromStart\", \"chromEnd\", \"name\", \"inter_width\", \"strand\"]):\n",
    "    return pd.read_table(fn, header = head, names = cols)"
   ]
  },
  {
   "cell_type": "code",
   "execution_count": 11,
   "metadata": {},
   "outputs": [],
   "source": [
    "def get_fisher(peak_fn, nonpeak_fn, peak_merge = False, cols = ['name', 'n_inter_peak', 'n_inter_nonpeak', \n",
    "                                                                'n_nointer_peak', 'n_nointer_nonpeak', \n",
    "                                                                'fisher_p', 'odds_ratio']):\n",
    "    peaks_intersect = read_intersect(peak_fn)\n",
    "    peaks_intersect[\"peak\"] = 1\n",
    "    nonpeaks_intersect = read_intersect(nonpeak_fn)\n",
    "    nonpeaks_intersect[\"peak\"] = 0\n",
    "    intersect = peaks_intersect.append(nonpeaks_intersect)\n",
    "    fisher_stats = pd.DataFrame(columns = cols)\n",
    "    idx = 0\n",
    "    sum_inter_peak = peaks_intersect.shape[0]\n",
    "    sum_inter_nonpeak = nonpeaks_intersect.shape[0]\n",
    "    for RBP in list(set(intersect[\"name\"])):\n",
    "        fisher_stats.loc[idx, 'name'] = RBP\n",
    "        n_inter_peak = intersect[(intersect[\"name\"] == RBP) & (intersect[\"peak\"] == 1)].shape[0]\n",
    "        n_inter_nonpeak = intersect[(intersect[\"name\"] == RBP) & (intersect[\"peak\"] == 0)].shape[0]\n",
    "        n_nointer_peak = sum_inter_peak - n_inter_peak\n",
    "        n_nointer_nonpeak = sum_inter_nonpeak - n_inter_nonpeak\n",
    "        fisher_stats.loc[idx, 'n_inter_peak'] = n_inter_peak\n",
    "        fisher_stats.loc[idx, 'n_inter_nonpeak'] = n_inter_nonpeak\n",
    "        fisher_stats.loc[idx, 'n_nointer_peak'] = n_nointer_peak\n",
    "        fisher_stats.loc[idx, 'n_nointer_nonpeak'] = n_nointer_nonpeak\n",
    "        fisher_stats.loc[idx, 'fisher_p'] = stats.fisher_exact([[n_inter_peak, n_inter_nonpeak], \n",
    "                                                                [n_nointer_peak, n_nointer_nonpeak]])[1]\n",
    "        fisher_stats.loc[idx, 'odds_ratio'] = stats.fisher_exact([[n_inter_peak, n_inter_nonpeak], \n",
    "                                                                  [n_nointer_peak, n_nointer_nonpeak]])[0]\n",
    "        idx += 1\n",
    "    fisher_stats = fisher_stats.sort_values(by = [\"odds_ratio\"], ascending = False)\n",
    "    fisher_stats = fisher_stats.set_index([[i for i in range(fisher_stats.shape[0])]])\n",
    "    return fisher_stats"
   ]
  },
  {
   "cell_type": "code",
   "execution_count": 12,
   "metadata": {},
   "outputs": [],
   "source": [
    "fn1 = input_intersect_peak_merged\n",
    "fn2 = input_intersect_nonpeak\n",
    "fn3 = input_intersect_peak\n",
    "fisher_peak_merge = get_fisher(peak_fn = fn1, nonpeak_fn = fn2)\n",
    "fisher_peak_unmerge = get_fisher(peak_fn = fn3, nonpeak_fn = fn2)"
   ]
  },
  {
   "cell_type": "code",
   "execution_count": 16,
   "metadata": {},
   "outputs": [
    {
     "name": "stdout",
     "output_type": "stream",
     "text": [
      "['IGF2BP3', 'HNRNPUL1', 'HNRNPA1', 'HNRNPM', 'IGF2BP1', 'FMR1', 'HNRNPK', 'HNRNPU', 'IGF2BP2', 'HNRNPC']\n"
     ]
    }
   ],
   "source": [
    "RBP_potential = [\"YTHDF\", \"HNRNP\", \"FMR1\", \"IGF2BP\", \"G3BP\"]\n",
    "RBP_names = fisher_peak_merge[\"name\"].tolist()\n",
    "RBPs = list()\n",
    "for RBP in RBP_names:\n",
    "    tmp = [RBP for item in RBP_potential if RBP.find(item) == 0]\n",
    "    RBPs.extend(tmp)\n",
    "print (RBPs)"
   ]
  },
  {
   "cell_type": "markdown",
   "metadata": {},
   "source": [
    "#### Fisher test statistics of merged m6A peaks and unmerged nonpeaks"
   ]
  },
  {
   "cell_type": "code",
   "execution_count": 17,
   "metadata": {
    "scrolled": true
   },
   "outputs": [
    {
     "data": {
      "text/html": [
       "<div>\n",
       "<style scoped>\n",
       "    .dataframe tbody tr th:only-of-type {\n",
       "        vertical-align: middle;\n",
       "    }\n",
       "\n",
       "    .dataframe tbody tr th {\n",
       "        vertical-align: top;\n",
       "    }\n",
       "\n",
       "    .dataframe thead th {\n",
       "        text-align: right;\n",
       "    }\n",
       "</style>\n",
       "<table border=\"1\" class=\"dataframe\">\n",
       "  <thead>\n",
       "    <tr style=\"text-align: right;\">\n",
       "      <th></th>\n",
       "      <th>name</th>\n",
       "      <th>n_inter_peak</th>\n",
       "      <th>n_inter_nonpeak</th>\n",
       "      <th>n_nointer_peak</th>\n",
       "      <th>n_nointer_nonpeak</th>\n",
       "      <th>fisher_p</th>\n",
       "      <th>odds_ratio</th>\n",
       "    </tr>\n",
       "  </thead>\n",
       "  <tbody>\n",
       "    <tr>\n",
       "      <th>3</th>\n",
       "      <td>IGF2BP3</td>\n",
       "      <td>3947</td>\n",
       "      <td>1522</td>\n",
       "      <td>860839</td>\n",
       "      <td>740619</td>\n",
       "      <td>6.24384e-171</td>\n",
       "      <td>2.23113</td>\n",
       "    </tr>\n",
       "    <tr>\n",
       "      <th>39</th>\n",
       "      <td>HNRNPUL1</td>\n",
       "      <td>1359</td>\n",
       "      <td>834</td>\n",
       "      <td>863427</td>\n",
       "      <td>741307</td>\n",
       "      <td>1.26388e-14</td>\n",
       "      <td>1.39903</td>\n",
       "    </tr>\n",
       "    <tr>\n",
       "      <th>40</th>\n",
       "      <td>HNRNPA1</td>\n",
       "      <td>6224</td>\n",
       "      <td>3837</td>\n",
       "      <td>858562</td>\n",
       "      <td>738304</td>\n",
       "      <td>5.5737e-60</td>\n",
       "      <td>1.39489</td>\n",
       "    </tr>\n",
       "    <tr>\n",
       "      <th>43</th>\n",
       "      <td>HNRNPM</td>\n",
       "      <td>5988</td>\n",
       "      <td>3742</td>\n",
       "      <td>858798</td>\n",
       "      <td>738399</td>\n",
       "      <td>1.19999e-53</td>\n",
       "      <td>1.37587</td>\n",
       "    </tr>\n",
       "    <tr>\n",
       "      <th>46</th>\n",
       "      <td>IGF2BP1</td>\n",
       "      <td>4282</td>\n",
       "      <td>2848</td>\n",
       "      <td>860504</td>\n",
       "      <td>739293</td>\n",
       "      <td>2.11425e-26</td>\n",
       "      <td>1.29173</td>\n",
       "    </tr>\n",
       "    <tr>\n",
       "      <th>48</th>\n",
       "      <td>FMR1</td>\n",
       "      <td>12088</td>\n",
       "      <td>8075</td>\n",
       "      <td>852698</td>\n",
       "      <td>734066</td>\n",
       "      <td>9.05598e-70</td>\n",
       "      <td>1.2887</td>\n",
       "    </tr>\n",
       "    <tr>\n",
       "      <th>55</th>\n",
       "      <td>HNRNPK</td>\n",
       "      <td>3247</td>\n",
       "      <td>2228</td>\n",
       "      <td>861539</td>\n",
       "      <td>739913</td>\n",
       "      <td>2.79703e-16</td>\n",
       "      <td>1.25162</td>\n",
       "    </tr>\n",
       "    <tr>\n",
       "      <th>56</th>\n",
       "      <td>HNRNPU</td>\n",
       "      <td>5687</td>\n",
       "      <td>3948</td>\n",
       "      <td>859099</td>\n",
       "      <td>738193</td>\n",
       "      <td>5.79733e-25</td>\n",
       "      <td>1.23775</td>\n",
       "    </tr>\n",
       "    <tr>\n",
       "      <th>71</th>\n",
       "      <td>IGF2BP2</td>\n",
       "      <td>15260</td>\n",
       "      <td>11806</td>\n",
       "      <td>849526</td>\n",
       "      <td>730335</td>\n",
       "      <td>1.32338e-17</td>\n",
       "      <td>1.11121</td>\n",
       "    </tr>\n",
       "    <tr>\n",
       "      <th>99</th>\n",
       "      <td>HNRNPC</td>\n",
       "      <td>46750</td>\n",
       "      <td>44553</td>\n",
       "      <td>818036</td>\n",
       "      <td>697588</td>\n",
       "      <td>1.18857e-59</td>\n",
       "      <td>0.894811</td>\n",
       "    </tr>\n",
       "  </tbody>\n",
       "</table>\n",
       "</div>"
      ],
      "text/plain": [
       "        name n_inter_peak n_inter_nonpeak n_nointer_peak n_nointer_nonpeak  \\\n",
       "3    IGF2BP3         3947            1522         860839            740619   \n",
       "39  HNRNPUL1         1359             834         863427            741307   \n",
       "40   HNRNPA1         6224            3837         858562            738304   \n",
       "43    HNRNPM         5988            3742         858798            738399   \n",
       "46   IGF2BP1         4282            2848         860504            739293   \n",
       "48      FMR1        12088            8075         852698            734066   \n",
       "55    HNRNPK         3247            2228         861539            739913   \n",
       "56    HNRNPU         5687            3948         859099            738193   \n",
       "71   IGF2BP2        15260           11806         849526            730335   \n",
       "99    HNRNPC        46750           44553         818036            697588   \n",
       "\n",
       "        fisher_p odds_ratio  \n",
       "3   6.24384e-171    2.23113  \n",
       "39   1.26388e-14    1.39903  \n",
       "40    5.5737e-60    1.39489  \n",
       "43   1.19999e-53    1.37587  \n",
       "46   2.11425e-26    1.29173  \n",
       "48   9.05598e-70     1.2887  \n",
       "55   2.79703e-16    1.25162  \n",
       "56   5.79733e-25    1.23775  \n",
       "71   1.32338e-17    1.11121  \n",
       "99   1.18857e-59   0.894811  "
      ]
     },
     "execution_count": 17,
     "metadata": {},
     "output_type": "execute_result"
    }
   ],
   "source": [
    "fisher_peak_merge[fisher_peak_merge[\"name\"].isin(RBPs)]"
   ]
  },
  {
   "cell_type": "markdown",
   "metadata": {},
   "source": [
    "#### Fisher test statistics of unmerged m6A peaks and unmerged nonpeaks"
   ]
  },
  {
   "cell_type": "code",
   "execution_count": 18,
   "metadata": {
    "scrolled": true
   },
   "outputs": [
    {
     "data": {
      "text/html": [
       "<div>\n",
       "<style scoped>\n",
       "    .dataframe tbody tr th:only-of-type {\n",
       "        vertical-align: middle;\n",
       "    }\n",
       "\n",
       "    .dataframe tbody tr th {\n",
       "        vertical-align: top;\n",
       "    }\n",
       "\n",
       "    .dataframe thead th {\n",
       "        text-align: right;\n",
       "    }\n",
       "</style>\n",
       "<table border=\"1\" class=\"dataframe\">\n",
       "  <thead>\n",
       "    <tr style=\"text-align: right;\">\n",
       "      <th></th>\n",
       "      <th>name</th>\n",
       "      <th>n_inter_peak</th>\n",
       "      <th>n_inter_nonpeak</th>\n",
       "      <th>n_nointer_peak</th>\n",
       "      <th>n_nointer_nonpeak</th>\n",
       "      <th>fisher_p</th>\n",
       "      <th>odds_ratio</th>\n",
       "    </tr>\n",
       "  </thead>\n",
       "  <tbody>\n",
       "    <tr>\n",
       "      <th>8</th>\n",
       "      <td>IGF2BP3</td>\n",
       "      <td>4586</td>\n",
       "      <td>1522</td>\n",
       "      <td>1148761</td>\n",
       "      <td>740619</td>\n",
       "      <td>2.16158e-122</td>\n",
       "      <td>1.94261</td>\n",
       "    </tr>\n",
       "    <tr>\n",
       "      <th>34</th>\n",
       "      <td>FMR1</td>\n",
       "      <td>18832</td>\n",
       "      <td>8075</td>\n",
       "      <td>1134515</td>\n",
       "      <td>734066</td>\n",
       "      <td>1.76903e-217</td>\n",
       "      <td>1.50896</td>\n",
       "    </tr>\n",
       "    <tr>\n",
       "      <th>41</th>\n",
       "      <td>IGF2BP1</td>\n",
       "      <td>6264</td>\n",
       "      <td>2848</td>\n",
       "      <td>1147083</td>\n",
       "      <td>739293</td>\n",
       "      <td>1.5377e-55</td>\n",
       "      <td>1.41753</td>\n",
       "    </tr>\n",
       "    <tr>\n",
       "      <th>46</th>\n",
       "      <td>IGF2BP2</td>\n",
       "      <td>24619</td>\n",
       "      <td>11806</td>\n",
       "      <td>1128728</td>\n",
       "      <td>730335</td>\n",
       "      <td>9.28274e-160</td>\n",
       "      <td>1.34927</td>\n",
       "    </tr>\n",
       "    <tr>\n",
       "      <th>51</th>\n",
       "      <td>HNRNPUL1</td>\n",
       "      <td>1626</td>\n",
       "      <td>834</td>\n",
       "      <td>1151721</td>\n",
       "      <td>741307</td>\n",
       "      <td>7.53018e-08</td>\n",
       "      <td>1.25489</td>\n",
       "    </tr>\n",
       "    <tr>\n",
       "      <th>59</th>\n",
       "      <td>HNRNPA1</td>\n",
       "      <td>7037</td>\n",
       "      <td>3837</td>\n",
       "      <td>1146310</td>\n",
       "      <td>738304</td>\n",
       "      <td>8.12827e-17</td>\n",
       "      <td>1.18121</td>\n",
       "    </tr>\n",
       "    <tr>\n",
       "      <th>65</th>\n",
       "      <td>HNRNPK</td>\n",
       "      <td>3923</td>\n",
       "      <td>2228</td>\n",
       "      <td>1149424</td>\n",
       "      <td>739913</td>\n",
       "      <td>2.16906e-06</td>\n",
       "      <td>1.13345</td>\n",
       "    </tr>\n",
       "    <tr>\n",
       "      <th>73</th>\n",
       "      <td>HNRNPM</td>\n",
       "      <td>6148</td>\n",
       "      <td>3742</td>\n",
       "      <td>1147199</td>\n",
       "      <td>738399</td>\n",
       "      <td>0.00724526</td>\n",
       "      <td>1.0575</td>\n",
       "    </tr>\n",
       "    <tr>\n",
       "      <th>78</th>\n",
       "      <td>HNRNPU</td>\n",
       "      <td>6215</td>\n",
       "      <td>3948</td>\n",
       "      <td>1147132</td>\n",
       "      <td>738193</td>\n",
       "      <td>0.527598</td>\n",
       "      <td>1.01303</td>\n",
       "    </tr>\n",
       "    <tr>\n",
       "      <th>115</th>\n",
       "      <td>HNRNPC</td>\n",
       "      <td>47454</td>\n",
       "      <td>44553</td>\n",
       "      <td>1105893</td>\n",
       "      <td>697588</td>\n",
       "      <td>0</td>\n",
       "      <td>0.671865</td>\n",
       "    </tr>\n",
       "  </tbody>\n",
       "</table>\n",
       "</div>"
      ],
      "text/plain": [
       "         name n_inter_peak n_inter_nonpeak n_nointer_peak n_nointer_nonpeak  \\\n",
       "8     IGF2BP3         4586            1522        1148761            740619   \n",
       "34       FMR1        18832            8075        1134515            734066   \n",
       "41    IGF2BP1         6264            2848        1147083            739293   \n",
       "46    IGF2BP2        24619           11806        1128728            730335   \n",
       "51   HNRNPUL1         1626             834        1151721            741307   \n",
       "59    HNRNPA1         7037            3837        1146310            738304   \n",
       "65     HNRNPK         3923            2228        1149424            739913   \n",
       "73     HNRNPM         6148            3742        1147199            738399   \n",
       "78     HNRNPU         6215            3948        1147132            738193   \n",
       "115    HNRNPC        47454           44553        1105893            697588   \n",
       "\n",
       "         fisher_p odds_ratio  \n",
       "8    2.16158e-122    1.94261  \n",
       "34   1.76903e-217    1.50896  \n",
       "41     1.5377e-55    1.41753  \n",
       "46   9.28274e-160    1.34927  \n",
       "51    7.53018e-08    1.25489  \n",
       "59    8.12827e-17    1.18121  \n",
       "65    2.16906e-06    1.13345  \n",
       "73     0.00724526     1.0575  \n",
       "78       0.527598    1.01303  \n",
       "115             0   0.671865  "
      ]
     },
     "execution_count": 18,
     "metadata": {},
     "output_type": "execute_result"
    }
   ],
   "source": [
    "fisher_peak_unmerge[fisher_peak_unmerge[\"name\"].isin(RBPs)]"
   ]
  }
 ],
 "metadata": {
  "kernelspec": {
   "display_name": "Python 3",
   "language": "python",
   "name": "python3"
  },
  "language_info": {
   "codemirror_mode": {
    "name": "ipython",
    "version": 3
   },
   "file_extension": ".py",
   "mimetype": "text/x-python",
   "name": "python",
   "nbconvert_exporter": "python",
   "pygments_lexer": "ipython3",
   "version": "3.6.3"
  }
 },
 "nbformat": 4,
 "nbformat_minor": 2
}
